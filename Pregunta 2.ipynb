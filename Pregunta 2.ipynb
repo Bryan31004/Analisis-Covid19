{
 "cells": [
  {
   "cell_type": "code",
   "execution_count": 1,
   "metadata": {},
   "outputs": [],
   "source": [
    "import pandas as pd\n",
    "import numpy as np \n",
    "import requests\n",
    "from io import StringIO\n",
    "import matplotlib.pyplot as plt\n",
    "import matplotlib.dates as mdates\n",
    "from matplotlib.ticker import FuncFormatter\n",
    "from sklearn.ensemble import RandomForestRegressor\n",
    "import json\n",
    "from datetime import datetime\n",
    "import seaborn as sns"
   ]
  },
  {
   "cell_type": "code",
   "execution_count": 3,
   "metadata": {},
   "outputs": [
    {
     "data": {
      "text/html": [
       "<div>\n",
       "<style scoped>\n",
       "    .dataframe tbody tr th:only-of-type {\n",
       "        vertical-align: middle;\n",
       "    }\n",
       "\n",
       "    .dataframe tbody tr th {\n",
       "        vertical-align: top;\n",
       "    }\n",
       "\n",
       "    .dataframe thead th {\n",
       "        text-align: right;\n",
       "    }\n",
       "</style>\n",
       "<table border=\"1\" class=\"dataframe\">\n",
       "  <thead>\n",
       "    <tr style=\"text-align: right;\">\n",
       "      <th></th>\n",
       "      <th>Date_reported</th>\n",
       "      <th>Country_code</th>\n",
       "      <th>Country</th>\n",
       "      <th>New_cases</th>\n",
       "      <th>Cumulative_cases</th>\n",
       "      <th>New_deaths</th>\n",
       "      <th>Cumulative_deaths</th>\n",
       "      <th>lethality_rate</th>\n",
       "    </tr>\n",
       "  </thead>\n",
       "  <tbody>\n",
       "    <tr>\n",
       "      <th>0</th>\n",
       "      <td>2022-03-27</td>\n",
       "      <td>AS</td>\n",
       "      <td>American Samoa</td>\n",
       "      <td>1881</td>\n",
       "      <td>3278</td>\n",
       "      <td>2</td>\n",
       "      <td>2</td>\n",
       "      <td>0.061013</td>\n",
       "    </tr>\n",
       "    <tr>\n",
       "      <th>1</th>\n",
       "      <td>2022-04-03</td>\n",
       "      <td>AS</td>\n",
       "      <td>American Samoa</td>\n",
       "      <td>1378</td>\n",
       "      <td>4656</td>\n",
       "      <td>5</td>\n",
       "      <td>7</td>\n",
       "      <td>0.150344</td>\n",
       "    </tr>\n",
       "    <tr>\n",
       "      <th>2</th>\n",
       "      <td>2022-04-10</td>\n",
       "      <td>AS</td>\n",
       "      <td>American Samoa</td>\n",
       "      <td>746</td>\n",
       "      <td>5402</td>\n",
       "      <td>4</td>\n",
       "      <td>11</td>\n",
       "      <td>0.203628</td>\n",
       "    </tr>\n",
       "    <tr>\n",
       "      <th>3</th>\n",
       "      <td>2022-04-17</td>\n",
       "      <td>AS</td>\n",
       "      <td>American Samoa</td>\n",
       "      <td>133</td>\n",
       "      <td>5535</td>\n",
       "      <td>7</td>\n",
       "      <td>18</td>\n",
       "      <td>0.325203</td>\n",
       "    </tr>\n",
       "    <tr>\n",
       "      <th>4</th>\n",
       "      <td>2022-04-24</td>\n",
       "      <td>AS</td>\n",
       "      <td>American Samoa</td>\n",
       "      <td>230</td>\n",
       "      <td>5765</td>\n",
       "      <td>5</td>\n",
       "      <td>23</td>\n",
       "      <td>0.398959</td>\n",
       "    </tr>\n",
       "  </tbody>\n",
       "</table>\n",
       "</div>"
      ],
      "text/plain": [
       "  Date_reported Country_code         Country  New_cases  Cumulative_cases  \\\n",
       "0    2022-03-27           AS  American Samoa       1881              3278   \n",
       "1    2022-04-03           AS  American Samoa       1378              4656   \n",
       "2    2022-04-10           AS  American Samoa        746              5402   \n",
       "3    2022-04-17           AS  American Samoa        133              5535   \n",
       "4    2022-04-24           AS  American Samoa        230              5765   \n",
       "\n",
       "   New_deaths  Cumulative_deaths  lethality_rate  \n",
       "0           2                  2        0.061013  \n",
       "1           5                  7        0.150344  \n",
       "2           4                 11        0.203628  \n",
       "3           7                 18        0.325203  \n",
       "4           5                 23        0.398959  "
      ]
     },
     "execution_count": 3,
     "metadata": {},
     "output_type": "execute_result"
    }
   ],
   "source": [
    "df_covid_limpio = pd.read_csv('df_covid_limpio.csv', sep=',')\n",
    "df_covid_limpio.head()"
   ]
  },
  {
   "cell_type": "code",
   "execution_count": 5,
   "metadata": {},
   "outputs": [],
   "source": [
    "#Usando el dataframe df_covid_limpio, vamos a agrupar por país y fecha para obtener el valor de la columna Cumulative_cases, luego guardamos el resultado en grouped_df.\n",
    "grouped_df = df_covid_limpio.groupby(['Country', 'Date_reported'])['Cumulative_cases'].sum().unstack()"
   ]
  },
  {
   "cell_type": "code",
   "execution_count": 6,
   "metadata": {},
   "outputs": [],
   "source": [
    "#Luego reiniciamos el índice de grouped_df.\n",
    "grouped_df = grouped_df.reset_index()"
   ]
  },
  {
   "cell_type": "code",
   "execution_count": 7,
   "metadata": {},
   "outputs": [],
   "source": [
    "#Indicamos que el índice de grouped_df sea la columna Country.\n",
    "grouped_df = grouped_df.set_index('Country')"
   ]
  },
  {
   "cell_type": "code",
   "execution_count": 8,
   "metadata": {},
   "outputs": [],
   "source": [
    "\n",
    "#Luego filtramos y dejamos en grouped_df sólo los registros del país que estamos analizando.\n",
    "grouped_df = grouped_df.loc[['France']]"
   ]
  },
  {
   "cell_type": "code",
   "execution_count": 11,
   "metadata": {},
   "outputs": [],
   "source": [
    "#Creo una variable fechas conteniendo todas las columnas de grouped_df, que son las fechas reportadas en el país.\n",
    "fechas = grouped_df.columns"
   ]
  },
  {
   "cell_type": "code",
   "execution_count": 13,
   "metadata": {},
   "outputs": [],
   "source": [
    "#Utilizando la variable fechas voy a calcular la diferencia de valores entre la columna anterior y columna actual y reemplazaré el valor de la columna actual por la diferencia calculada, realizaremos esto para todas las fechas, guardaremos el resultado en new_cases.\n",
    "new_cases = grouped_df[fechas].diff(axis=1).fillna(grouped_df[fechas]).sum(axis=0)"
   ]
  },
  {
   "cell_type": "code",
   "execution_count": 14,
   "metadata": {},
   "outputs": [
    {
     "data": {
      "text/plain": [
       "Date_reported\n",
       "2022-01-16    13538779.0\n",
       "2022-01-23     2417043.0\n",
       "2022-01-30     2329374.0\n",
       "2022-02-06     1707588.0\n",
       "2022-02-13      958639.0\n",
       "                 ...    \n",
       "2023-05-28       25230.0\n",
       "2023-06-04       18614.0\n",
       "2023-06-11       15618.0\n",
       "2023-06-18       11200.0\n",
       "2023-06-25        7982.0\n",
       "Length: 76, dtype: float64"
      ]
     },
     "execution_count": 14,
     "metadata": {},
     "output_type": "execute_result"
    }
   ],
   "source": [
    "#Finalmente, retiraremos los registros de new_cases con valores negativos.\n",
    "new_cases = new_cases[new_cases > 0]\n",
    "new_cases"
   ]
  },
  {
   "cell_type": "code",
   "execution_count": 15,
   "metadata": {},
   "outputs": [
    {
     "data": {
      "image/png": "[encoded data removed]",
      "text/plain": [
       "<Figure size 1200x400 with 1 Axes>"
      ]
     },
     "metadata": {},
     "output_type": "display_data"
    }
   ],
   "source": [
    "# Crea el gráfico de barras\n",
    "fig, ax = plt.subplots(figsize=(12, 4))\n",
    "bars = ax.bar(new_cases.index, new_cases.values/ 1e6)"
   ]
  }
 ],
 "metadata": {
  "kernelspec": {
   "display_name": "Python 3",
   "language": "python",
   "name": "python3"
  },
  "language_info": {
   "codemirror_mode": {
    "name": "ipython",
    "version": 3
   },
   "file_extension": ".py",
   "mimetype": "text/x-python",
   "name": "python",
   "nbconvert_exporter": "python",
   "pygments_lexer": "ipython3",
   "version": "3.11.4"
  }
 },
 "nbformat": 4,
 "nbformat_minor": 2
}
