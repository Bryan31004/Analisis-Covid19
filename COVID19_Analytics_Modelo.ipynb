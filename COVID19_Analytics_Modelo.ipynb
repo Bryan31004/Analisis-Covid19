{
  "cells": [
    {
      "cell_type": "markdown",
      "metadata": {
        "id": "8UHlwBa1vgQw"
      },
      "source": [
        "#**PROBLEMA DE NEGOCIO**\n",
        "\n",
        "\n",
        "---\n",
        "\n",
        "\n"
      ]
    },
    {
      "cell_type": "markdown",
      "metadata": {
        "id": "rI-VFMGLvhsq"
      },
      "source": [
        "##Una entidad gubernamental responsable de la gestión de la salud en un país enfrenta el desafío de comprender y analizar la propagación del COVID-19 para tomar decisiones informadas y eficaces en la gestión de la pandemia. Como científico de datos, tu tarea es analizar los datos relacionados con el COVID-19 y presentar insights a través de visualizaciones que respondan a las siguientes preguntas clave:"
      ]
    },
    {
      "cell_type": "markdown",
      "metadata": {
        "id": "xwl9Zz61vjTz"
      },
      "source": [
        "### **Preguntas**\n",
        "\n",
        "1. ¿Cómo ha evolucionado el Covid-19 en el país en comparación con el impacto observado a nivel global?\n",
        "\n",
        "2. ¿Cuál ha sido la evolución de los nuevos casos diarios reportados de Covid-19 en el país a lo largo del tiempo?\n",
        "\n",
        "3. ¿Cuál es la evolución del índice de letalidad del Covid-19 en el país, comparado con los países con los índices históricos más elevados?\n",
        "\n",
        "4. Desde una perspectiva demográfica, ¿cuáles son las características que tienen un mayor impacto en el índice de letalidad de un país?\n",
        "\n",
        "5. ¿Existe otro insight que puedas proporcionar?"
      ]
    }
  ],
  "metadata": {
    "colab": {
      "provenance": []
    },
    "kernelspec": {
      "display_name": "Python 3",
      "name": "python3"
    },
    "language_info": {
      "name": "python"
    }
  },
  "nbformat": 4,
  "nbformat_minor": 0
}
